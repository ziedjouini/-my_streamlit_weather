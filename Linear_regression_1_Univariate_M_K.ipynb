{
  "nbformat": 4,
  "nbformat_minor": 0,
  "metadata": {
    "colab": {
      "provenance": [],
      "include_colab_link": true
    },
    "kernelspec": {
      "name": "python3",
      "display_name": "Python 3"
    }
  },
  "cells": [
    {
      "cell_type": "markdown",
      "metadata": {
        "id": "view-in-github",
        "colab_type": "text"
      },
      "source": [
        "<a href=\"https://colab.research.google.com/github/ziedjouini/-my_streamlit_weather/blob/main/Linear_regression_1_Univariate_M_K.ipynb\" target=\"_parent\"><img src=\"https://colab.research.google.com/assets/colab-badge.svg\" alt=\"Open In Colab\"/></a>"
      ]
    },
    {
      "cell_type": "markdown",
      "metadata": {
        "id": "7RZbCjBZBNKL"
      },
      "source": [
        "# Execute the code below"
      ]
    },
    {
      "cell_type": "code",
      "source": [],
      "metadata": {
        "id": "tXEeJDpwBZcF"
      },
      "execution_count": null,
      "outputs": []
    },
    {
      "cell_type": "code",
      "metadata": {
        "id": "ih5VsCSsAGWK"
      },
      "source": [
        "import matplotlib.pyplot as plt\n",
        "import pandas as pd\n",
        "import numpy as np\n",
        "import seaborn as sns\n",
        "link = \"https://raw.githubusercontent.com/murpi/wilddata/master/quests/weather2019.csv\"\n",
        "df_weather = pd.read_csv(link)\n",
        "df_weather = df_weather.iloc[:,[0,1,2, -4]]"
      ],
      "execution_count": null,
      "outputs": []
    },
    {
      "cell_type": "markdown",
      "metadata": {
        "id": "HDfmi_gNBRd3"
      },
      "source": [
        "# Univariate linear regression with Scikit-Learn"
      ]
    },
    {
      "cell_type": "code",
      "source": [],
      "metadata": {
        "id": "RSK9qChZs9It"
      },
      "execution_count": null,
      "outputs": []
    },
    {
      "cell_type": "markdown",
      "metadata": {
        "id": "QhC4gFT2BVh1"
      },
      "source": [
        "Scikit-Learn is the greatest Machine Learning library for Python. Do you remember that you can do Linear regression with NumPy ? You can do the same with Scikit-Learn. And many other things!\n",
        "Let's start with univariate Linear regression, to learn the syntax."
      ]
    },
    {
      "cell_type": "markdown",
      "metadata": {
        "id": "sqL95QpaCTtI"
      },
      "source": [
        "## Print a regplot with seaborn to show a linear regression between Sunhours (on the X-axis) and MAX temperature (on the Y-axis)."
      ]
    },
    {
      "cell_type": "code",
      "source": [
        "df_weather[['SUNHOUR']]"
      ],
      "metadata": {
        "colab": {
          "base_uri": "https://localhost:8080/",
          "height": 424
        },
        "id": "y2WFGgMRtTHz",
        "outputId": "8211de78-194f-4857-efc9-5150d1afd911"
      },
      "execution_count": null,
      "outputs": [
        {
          "output_type": "execute_result",
          "data": {
            "text/plain": [
              "     SUNHOUR\n",
              "0        5.1\n",
              "1        8.7\n",
              "2        8.7\n",
              "3        5.1\n",
              "4        8.7\n",
              "..       ...\n",
              "360      8.7\n",
              "361      6.9\n",
              "362      8.7\n",
              "363      8.7\n",
              "364      8.7\n",
              "\n",
              "[365 rows x 1 columns]"
            ],
            "text/html": [
              "\n",
              "  <div id=\"df-28f286fa-a4c7-4a67-bf7e-a396aac93449\">\n",
              "    <div class=\"colab-df-container\">\n",
              "      <div>\n",
              "<style scoped>\n",
              "    .dataframe tbody tr th:only-of-type {\n",
              "        vertical-align: middle;\n",
              "    }\n",
              "\n",
              "    .dataframe tbody tr th {\n",
              "        vertical-align: top;\n",
              "    }\n",
              "\n",
              "    .dataframe thead th {\n",
              "        text-align: right;\n",
              "    }\n",
              "</style>\n",
              "<table border=\"1\" class=\"dataframe\">\n",
              "  <thead>\n",
              "    <tr style=\"text-align: right;\">\n",
              "      <th></th>\n",
              "      <th>SUNHOUR</th>\n",
              "    </tr>\n",
              "  </thead>\n",
              "  <tbody>\n",
              "    <tr>\n",
              "      <th>0</th>\n",
              "      <td>5.1</td>\n",
              "    </tr>\n",
              "    <tr>\n",
              "      <th>1</th>\n",
              "      <td>8.7</td>\n",
              "    </tr>\n",
              "    <tr>\n",
              "      <th>2</th>\n",
              "      <td>8.7</td>\n",
              "    </tr>\n",
              "    <tr>\n",
              "      <th>3</th>\n",
              "      <td>5.1</td>\n",
              "    </tr>\n",
              "    <tr>\n",
              "      <th>4</th>\n",
              "      <td>8.7</td>\n",
              "    </tr>\n",
              "    <tr>\n",
              "      <th>...</th>\n",
              "      <td>...</td>\n",
              "    </tr>\n",
              "    <tr>\n",
              "      <th>360</th>\n",
              "      <td>8.7</td>\n",
              "    </tr>\n",
              "    <tr>\n",
              "      <th>361</th>\n",
              "      <td>6.9</td>\n",
              "    </tr>\n",
              "    <tr>\n",
              "      <th>362</th>\n",
              "      <td>8.7</td>\n",
              "    </tr>\n",
              "    <tr>\n",
              "      <th>363</th>\n",
              "      <td>8.7</td>\n",
              "    </tr>\n",
              "    <tr>\n",
              "      <th>364</th>\n",
              "      <td>8.7</td>\n",
              "    </tr>\n",
              "  </tbody>\n",
              "</table>\n",
              "<p>365 rows × 1 columns</p>\n",
              "</div>\n",
              "      <button class=\"colab-df-convert\" onclick=\"convertToInteractive('df-28f286fa-a4c7-4a67-bf7e-a396aac93449')\"\n",
              "              title=\"Convert this dataframe to an interactive table.\"\n",
              "              style=\"display:none;\">\n",
              "        \n",
              "  <svg xmlns=\"http://www.w3.org/2000/svg\" height=\"24px\"viewBox=\"0 0 24 24\"\n",
              "       width=\"24px\">\n",
              "    <path d=\"M0 0h24v24H0V0z\" fill=\"none\"/>\n",
              "    <path d=\"M18.56 5.44l.94 2.06.94-2.06 2.06-.94-2.06-.94-.94-2.06-.94 2.06-2.06.94zm-11 1L8.5 8.5l.94-2.06 2.06-.94-2.06-.94L8.5 2.5l-.94 2.06-2.06.94zm10 10l.94 2.06.94-2.06 2.06-.94-2.06-.94-.94-2.06-.94 2.06-2.06.94z\"/><path d=\"M17.41 7.96l-1.37-1.37c-.4-.4-.92-.59-1.43-.59-.52 0-1.04.2-1.43.59L10.3 9.45l-7.72 7.72c-.78.78-.78 2.05 0 2.83L4 21.41c.39.39.9.59 1.41.59.51 0 1.02-.2 1.41-.59l7.78-7.78 2.81-2.81c.8-.78.8-2.07 0-2.86zM5.41 20L4 18.59l7.72-7.72 1.47 1.35L5.41 20z\"/>\n",
              "  </svg>\n",
              "      </button>\n",
              "      \n",
              "  <style>\n",
              "    .colab-df-container {\n",
              "      display:flex;\n",
              "      flex-wrap:wrap;\n",
              "      gap: 12px;\n",
              "    }\n",
              "\n",
              "    .colab-df-convert {\n",
              "      background-color: #E8F0FE;\n",
              "      border: none;\n",
              "      border-radius: 50%;\n",
              "      cursor: pointer;\n",
              "      display: none;\n",
              "      fill: #1967D2;\n",
              "      height: 32px;\n",
              "      padding: 0 0 0 0;\n",
              "      width: 32px;\n",
              "    }\n",
              "\n",
              "    .colab-df-convert:hover {\n",
              "      background-color: #E2EBFA;\n",
              "      box-shadow: 0px 1px 2px rgba(60, 64, 67, 0.3), 0px 1px 3px 1px rgba(60, 64, 67, 0.15);\n",
              "      fill: #174EA6;\n",
              "    }\n",
              "\n",
              "    [theme=dark] .colab-df-convert {\n",
              "      background-color: #3B4455;\n",
              "      fill: #D2E3FC;\n",
              "    }\n",
              "\n",
              "    [theme=dark] .colab-df-convert:hover {\n",
              "      background-color: #434B5C;\n",
              "      box-shadow: 0px 1px 3px 1px rgba(0, 0, 0, 0.15);\n",
              "      filter: drop-shadow(0px 1px 2px rgba(0, 0, 0, 0.3));\n",
              "      fill: #FFFFFF;\n",
              "    }\n",
              "  </style>\n",
              "\n",
              "      <script>\n",
              "        const buttonEl =\n",
              "          document.querySelector('#df-28f286fa-a4c7-4a67-bf7e-a396aac93449 button.colab-df-convert');\n",
              "        buttonEl.style.display =\n",
              "          google.colab.kernel.accessAllowed ? 'block' : 'none';\n",
              "\n",
              "        async function convertToInteractive(key) {\n",
              "          const element = document.querySelector('#df-28f286fa-a4c7-4a67-bf7e-a396aac93449');\n",
              "          const dataTable =\n",
              "            await google.colab.kernel.invokeFunction('convertToInteractive',\n",
              "                                                     [key], {});\n",
              "          if (!dataTable) return;\n",
              "\n",
              "          const docLinkHtml = 'Like what you see? Visit the ' +\n",
              "            '<a target=\"_blank\" href=https://colab.research.google.com/notebooks/data_table.ipynb>data table notebook</a>'\n",
              "            + ' to learn more about interactive tables.';\n",
              "          element.innerHTML = '';\n",
              "          dataTable['output_type'] = 'display_data';\n",
              "          await google.colab.output.renderOutput(dataTable, element);\n",
              "          const docLink = document.createElement('div');\n",
              "          docLink.innerHTML = docLinkHtml;\n",
              "          element.appendChild(docLink);\n",
              "        }\n",
              "      </script>\n",
              "    </div>\n",
              "  </div>\n",
              "  "
            ]
          },
          "metadata": {},
          "execution_count": 54
        }
      ]
    },
    {
      "cell_type": "code",
      "metadata": {
        "id": "rGg7wuwaBUGl",
        "colab": {
          "base_uri": "https://localhost:8080/",
          "height": 296
        },
        "outputId": "9fec72fb-734d-46da-ad96-34bc7f8f39ed"
      },
      "source": [
        "# Your code here :\n",
        "df_weather\n",
        "my_regplot = sns\n",
        "my_regplot.regplot(data=df_weather, \n",
        "                   x='SUNHOUR',\n",
        "                   y='MAX_TEMPERATURE_C',\n",
        "                   line_kws={'color':'red'})"
      ],
      "execution_count": null,
      "outputs": [
        {
          "output_type": "execute_result",
          "data": {
            "text/plain": [
              "<matplotlib.axes._subplots.AxesSubplot at 0x7fe156fc0c10>"
            ]
          },
          "metadata": {},
          "execution_count": 55
        },
        {
          "output_type": "display_data",
          "data": {
            "text/plain": [
              "<Figure size 432x288 with 1 Axes>"
            ],
            "image/png": "[encoded data removed]"
          },
          "metadata": {
            "needs_background": "light"
          }
        }
      ]
    },
    {
      "cell_type": "markdown",
      "metadata": {
        "id": "7Qnmc8HJEgSh"
      },
      "source": [
        "## Train the model\n",
        "You just have to read and execute the code below"
      ]
    },
    {
      "cell_type": "code",
      "metadata": {
        "id": "txQAv7N7C-rv"
      },
      "source": [
        "# Scikit-Learn can find the coefficients of the linear regression\n",
        "from sklearn.linear_model import LinearRegression\n",
        "\n",
        "# First of all, you have to define 2 series :\n",
        "# X-axis : the correlated column, here it is Sunhours\n",
        "X = df_weather[['SUNHOUR']] \n",
        "\n",
        "# Y-axis : the column to predict, so MAX Temperature here\n",
        "y = df_weather['MAX_TEMPERATURE_C'] \n",
        "\n",
        "# Hey, why is \"X\" in uppercase and \"y\" in lowercase ? That's a good point, we'll see that in the next quest. Now, you just have to use this.\n",
        "\n",
        "# To train a machine learning model (here, it will find the equation of the linear regression), you just have launch the \".fit\" method.\n",
        "modelLR = LinearRegression().fit(X, y)"
      ],
      "execution_count": null,
      "outputs": []
    },
    {
      "cell_type": "markdown",
      "metadata": {
        "id": "yGHuorx4EiWD"
      },
      "source": [
        "## Explore the model"
      ]
    },
    {
      "cell_type": "code",
      "metadata": {
        "id": "dIWLEntIDjp4",
        "colab": {
          "base_uri": "https://localhost:8080/"
        },
        "outputId": "d846f07d-fbf8-4c38-c9b2-f31d408bff9f"
      },
      "source": [
        "# Your model is trained, it has now some attributes.\n",
        "# Coefficient, it's the \"a\" in your equation \"aX + b\"\n",
        "print(\"coefficient :\",modelLR.coef_)\n",
        "\n",
        "# Interception, it's the \"b\" in your equation \"aX + b\"\n",
        "print(\"intercept :\", modelLR.intercept_)\n",
        "\n",
        "modelLR.score(X,y)"
      ],
      "execution_count": null,
      "outputs": [
        {
          "output_type": "stream",
          "name": "stdout",
          "text": [
            "coefficient : [1.28422116]\n",
            "intercept : 4.8472953557195435\n"
          ]
        },
        {
          "output_type": "execute_result",
          "data": {
            "text/plain": [
              "0.47654554059087306"
            ]
          },
          "metadata": {},
          "execution_count": 57
        }
      ]
    },
    {
      "cell_type": "markdown",
      "metadata": {
        "id": "EY3uNopEGtOQ"
      },
      "source": [
        "## Prediction for 1 value"
      ]
    },
    {
      "cell_type": "code",
      "metadata": {
        "id": "gzNPxyTNFKAb",
        "colab": {
          "base_uri": "https://localhost:8080/"
        },
        "outputId": "2e9af737-18ed-4ac0-c5f1-e3097a2131de"
      },
      "source": [
        "# You can \"predict\" the Max Temperature from the Sunhours\n",
        "# For example, let's try if Sunhours is 10 :\n",
        "\n",
        "# Hand calculation :\n",
        "print(\"By hand :\", modelLR.coef_ * 10 + modelLR.intercept_ )\n",
        "\n",
        "# With a Scikit-Learn function :\n",
        "print(\"Scikit-Learn :  \", modelLR.predict([[10]])  )"
      ],
      "execution_count": null,
      "outputs": [
        {
          "output_type": "stream",
          "name": "stdout",
          "text": [
            "By hand : [17.68950691]\n",
            "Scikit-Learn :   [17.68950691]\n"
          ]
        },
        {
          "output_type": "stream",
          "name": "stderr",
          "text": [
            "/usr/local/lib/python3.8/dist-packages/sklearn/base.py:450: UserWarning: X does not have valid feature names, but LinearRegression was fitted with feature names\n",
            "  warnings.warn(\n"
          ]
        }
      ]
    },
    {
      "cell_type": "markdown",
      "metadata": {
        "id": "bXvhV9DPH9iH"
      },
      "source": [
        "## Predictions for multiple values (a Serie)\n",
        "Let's predict MAX temperature for the Sunhour column of your DataFrame.\n",
        "\n",
        "Note : You'll have to precise your column with double \"[\", like that  : df[['your_column]] \n",
        "\n",
        "*Why ? We'll see that in the next quest.*"
      ]
    },
    {
      "cell_type": "code",
      "metadata": {
        "id": "4J79U7rcHwpz"
      },
      "source": [
        "# Find a way to store the result of the prediction in a new column 'predict\" of the dataframe\n",
        "df_weather['predict'] = modelLR.predict(df_weather[['SUNHOUR']])"
      ],
      "execution_count": null,
      "outputs": []
    },
    {
      "cell_type": "code",
      "source": [
        "df_weather"
      ],
      "metadata": {
        "colab": {
          "base_uri": "https://localhost:8080/",
          "height": 424
        },
        "id": "T8QGn_EhvOfG",
        "outputId": "8e6dfca6-40c7-4a6b-8720-1d290ee8472f"
      },
      "execution_count": null,
      "outputs": [
        {
          "output_type": "execute_result",
          "data": {
            "text/plain": [
              "           DATE  MAX_TEMPERATURE_C  MIN_TEMPERATURE_C  SUNHOUR    predict\n",
              "0    2019-01-01                  9                  4      5.1  11.396823\n",
              "1    2019-01-02                  8                  5      8.7  16.020019\n",
              "2    2019-01-03                  6                  0      8.7  16.020019\n",
              "3    2019-01-04                  5                 -1      5.1  11.396823\n",
              "4    2019-01-05                  6                 -1      8.7  16.020019\n",
              "..          ...                ...                ...      ...        ...\n",
              "360  2019-12-27                 13                 10      8.7  16.020019\n",
              "361  2019-12-28                 11                  5      6.9  13.708421\n",
              "362  2019-12-29                  9                  2      8.7  16.020019\n",
              "363  2019-12-30                 12                  4      8.7  16.020019\n",
              "364  2019-12-31                 10                  4      8.7  16.020019\n",
              "\n",
              "[365 rows x 5 columns]"
            ],
            "text/html": [
              "\n",
              "  <div id=\"df-4f8a5f9f-d191-4edd-a6cb-2ad63872bea5\">\n",
              "    <div class=\"colab-df-container\">\n",
              "      <div>\n",
              "<style scoped>\n",
              "    .dataframe tbody tr th:only-of-type {\n",
              "        vertical-align: middle;\n",
              "    }\n",
              "\n",
              "    .dataframe tbody tr th {\n",
              "        vertical-align: top;\n",
              "    }\n",
              "\n",
              "    .dataframe thead th {\n",
              "        text-align: right;\n",
              "    }\n",
              "</style>\n",
              "<table border=\"1\" class=\"dataframe\">\n",
              "  <thead>\n",
              "    <tr style=\"text-align: right;\">\n",
              "      <th></th>\n",
              "      <th>DATE</th>\n",
              "      <th>MAX_TEMPERATURE_C</th>\n",
              "      <th>MIN_TEMPERATURE_C</th>\n",
              "      <th>SUNHOUR</th>\n",
              "      <th>predict</th>\n",
              "    </tr>\n",
              "  </thead>\n",
              "  <tbody>\n",
              "    <tr>\n",
              "      <th>0</th>\n",
              "      <td>2019-01-01</td>\n",
              "      <td>9</td>\n",
              "      <td>4</td>\n",
              "      <td>5.1</td>\n",
              "      <td>11.396823</td>\n",
              "    </tr>\n",
              "    <tr>\n",
              "      <th>1</th>\n",
              "      <td>2019-01-02</td>\n",
              "      <td>8</td>\n",
              "      <td>5</td>\n",
              "      <td>8.7</td>\n",
              "      <td>16.020019</td>\n",
              "    </tr>\n",
              "    <tr>\n",
              "      <th>2</th>\n",
              "      <td>2019-01-03</td>\n",
              "      <td>6</td>\n",
              "      <td>0</td>\n",
              "      <td>8.7</td>\n",
              "      <td>16.020019</td>\n",
              "    </tr>\n",
              "    <tr>\n",
              "      <th>3</th>\n",
              "      <td>2019-01-04</td>\n",
              "      <td>5</td>\n",
              "      <td>-1</td>\n",
              "      <td>5.1</td>\n",
              "      <td>11.396823</td>\n",
              "    </tr>\n",
              "    <tr>\n",
              "      <th>4</th>\n",
              "      <td>2019-01-05</td>\n",
              "      <td>6</td>\n",
              "      <td>-1</td>\n",
              "      <td>8.7</td>\n",
              "      <td>16.020019</td>\n",
              "    </tr>\n",
              "    <tr>\n",
              "      <th>...</th>\n",
              "      <td>...</td>\n",
              "      <td>...</td>\n",
              "      <td>...</td>\n",
              "      <td>...</td>\n",
              "      <td>...</td>\n",
              "    </tr>\n",
              "    <tr>\n",
              "      <th>360</th>\n",
              "      <td>2019-12-27</td>\n",
              "      <td>13</td>\n",
              "      <td>10</td>\n",
              "      <td>8.7</td>\n",
              "      <td>16.020019</td>\n",
              "    </tr>\n",
              "    <tr>\n",
              "      <th>361</th>\n",
              "      <td>2019-12-28</td>\n",
              "      <td>11</td>\n",
              "      <td>5</td>\n",
              "      <td>6.9</td>\n",
              "      <td>13.708421</td>\n",
              "    </tr>\n",
              "    <tr>\n",
              "      <th>362</th>\n",
              "      <td>2019-12-29</td>\n",
              "      <td>9</td>\n",
              "      <td>2</td>\n",
              "      <td>8.7</td>\n",
              "      <td>16.020019</td>\n",
              "    </tr>\n",
              "    <tr>\n",
              "      <th>363</th>\n",
              "      <td>2019-12-30</td>\n",
              "      <td>12</td>\n",
              "      <td>4</td>\n",
              "      <td>8.7</td>\n",
              "      <td>16.020019</td>\n",
              "    </tr>\n",
              "    <tr>\n",
              "      <th>364</th>\n",
              "      <td>2019-12-31</td>\n",
              "      <td>10</td>\n",
              "      <td>4</td>\n",
              "      <td>8.7</td>\n",
              "      <td>16.020019</td>\n",
              "    </tr>\n",
              "  </tbody>\n",
              "</table>\n",
              "<p>365 rows × 5 columns</p>\n",
              "</div>\n",
              "      <button class=\"colab-df-convert\" onclick=\"convertToInteractive('df-4f8a5f9f-d191-4edd-a6cb-2ad63872bea5')\"\n",
              "              title=\"Convert this dataframe to an interactive table.\"\n",
              "              style=\"display:none;\">\n",
              "        \n",
              "  <svg xmlns=\"http://www.w3.org/2000/svg\" height=\"24px\"viewBox=\"0 0 24 24\"\n",
              "       width=\"24px\">\n",
              "    <path d=\"M0 0h24v24H0V0z\" fill=\"none\"/>\n",
              "    <path d=\"M18.56 5.44l.94 2.06.94-2.06 2.06-.94-2.06-.94-.94-2.06-.94 2.06-2.06.94zm-11 1L8.5 8.5l.94-2.06 2.06-.94-2.06-.94L8.5 2.5l-.94 2.06-2.06.94zm10 10l.94 2.06.94-2.06 2.06-.94-2.06-.94-.94-2.06-.94 2.06-2.06.94z\"/><path d=\"M17.41 7.96l-1.37-1.37c-.4-.4-.92-.59-1.43-.59-.52 0-1.04.2-1.43.59L10.3 9.45l-7.72 7.72c-.78.78-.78 2.05 0 2.83L4 21.41c.39.39.9.59 1.41.59.51 0 1.02-.2 1.41-.59l7.78-7.78 2.81-2.81c.8-.78.8-2.07 0-2.86zM5.41 20L4 18.59l7.72-7.72 1.47 1.35L5.41 20z\"/>\n",
              "  </svg>\n",
              "      </button>\n",
              "      \n",
              "  <style>\n",
              "    .colab-df-container {\n",
              "      display:flex;\n",
              "      flex-wrap:wrap;\n",
              "      gap: 12px;\n",
              "    }\n",
              "\n",
              "    .colab-df-convert {\n",
              "      background-color: #E8F0FE;\n",
              "      border: none;\n",
              "      border-radius: 50%;\n",
              "      cursor: pointer;\n",
              "      display: none;\n",
              "      fill: #1967D2;\n",
              "      height: 32px;\n",
              "      padding: 0 0 0 0;\n",
              "      width: 32px;\n",
              "    }\n",
              "\n",
              "    .colab-df-convert:hover {\n",
              "      background-color: #E2EBFA;\n",
              "      box-shadow: 0px 1px 2px rgba(60, 64, 67, 0.3), 0px 1px 3px 1px rgba(60, 64, 67, 0.15);\n",
              "      fill: #174EA6;\n",
              "    }\n",
              "\n",
              "    [theme=dark] .colab-df-convert {\n",
              "      background-color: #3B4455;\n",
              "      fill: #D2E3FC;\n",
              "    }\n",
              "\n",
              "    [theme=dark] .colab-df-convert:hover {\n",
              "      background-color: #434B5C;\n",
              "      box-shadow: 0px 1px 3px 1px rgba(0, 0, 0, 0.15);\n",
              "      filter: drop-shadow(0px 1px 2px rgba(0, 0, 0, 0.3));\n",
              "      fill: #FFFFFF;\n",
              "    }\n",
              "  </style>\n",
              "\n",
              "      <script>\n",
              "        const buttonEl =\n",
              "          document.querySelector('#df-4f8a5f9f-d191-4edd-a6cb-2ad63872bea5 button.colab-df-convert');\n",
              "        buttonEl.style.display =\n",
              "          google.colab.kernel.accessAllowed ? 'block' : 'none';\n",
              "\n",
              "        async function convertToInteractive(key) {\n",
              "          const element = document.querySelector('#df-4f8a5f9f-d191-4edd-a6cb-2ad63872bea5');\n",
              "          const dataTable =\n",
              "            await google.colab.kernel.invokeFunction('convertToInteractive',\n",
              "                                                     [key], {});\n",
              "          if (!dataTable) return;\n",
              "\n",
              "          const docLinkHtml = 'Like what you see? Visit the ' +\n",
              "            '<a target=\"_blank\" href=https://colab.research.google.com/notebooks/data_table.ipynb>data table notebook</a>'\n",
              "            + ' to learn more about interactive tables.';\n",
              "          element.innerHTML = '';\n",
              "          dataTable['output_type'] = 'display_data';\n",
              "          await google.colab.output.renderOutput(dataTable, element);\n",
              "          const docLink = document.createElement('div');\n",
              "          docLink.innerHTML = docLinkHtml;\n",
              "          element.appendChild(docLink);\n",
              "        }\n",
              "      </script>\n",
              "    </div>\n",
              "  </div>\n",
              "  "
            ]
          },
          "metadata": {},
          "execution_count": 60
        }
      ]
    },
    {
      "cell_type": "markdown",
      "metadata": {
        "id": "0Ursrji1KgLk"
      },
      "source": [
        "## Visualisations\n",
        "You can predict the Max temperature from any value of Sunhour. Your prediction is now stored in a column, you can now visualize it. \n",
        "\n",
        "It's to you now :\n",
        "Create on the same scatterplot chart :\n",
        "- X-axis : Sunhours\n",
        "- Y-axis : MAX temperatures in blue dots and 'predict' in red dots."
      ]
    },
    {
      "cell_type": "code",
      "metadata": {
        "id": "ZgbZRRwmI93Q",
        "colab": {
          "base_uri": "https://localhost:8080/",
          "height": 296
        },
        "outputId": "4fc10bf2-53b7-4af0-85e2-27464f948dd5"
      },
      "source": [
        "# Your code here :\n",
        "\n",
        "my_scatter_plot = sns\n",
        "my_scatter_plot.scatterplot(data=df_weather,\n",
        "                            x='SUNHOUR',\n",
        "                            y='MAX_TEMPERATURE_C',\n",
        "                            color='red')\n",
        "\n",
        "my_scatter_plot.scatterplot(data=df_weather,\n",
        "                            x='SUNHOUR',\n",
        "                            y='predict',\n",
        "                            color='blue')\n"
      ],
      "execution_count": null,
      "outputs": [
        {
          "output_type": "execute_result",
          "data": {
            "text/plain": [
              "<matplotlib.axes._subplots.AxesSubplot at 0x7fe156f461f0>"
            ]
          },
          "metadata": {},
          "execution_count": 61
        },
        {
          "output_type": "display_data",
          "data": {
            "text/plain": [
              "<Figure size 432x288 with 1 Axes>"
            ],
            "image/png": "[encoded data removed]"
          },
          "metadata": {
            "needs_background": "light"
          }
        }
      ]
    },
    {
      "cell_type": "markdown",
      "metadata": {
        "id": "T1rmKjRPLVVq"
      },
      "source": [
        "Your prediction is stored in a DataFrame. **So, you can visualize your prediction without the \"source\" column.** Let's try it.\n",
        "Create on the same scatterplot chart :\n",
        "- X-axis : DATE\n",
        "- Y-axis : MAX temperatures in blue dots and 'predict' in red dots."
      ]
    },
    {
      "cell_type": "code",
      "metadata": {
        "id": "87LCCYitLYZ7",
        "colab": {
          "base_uri": "https://localhost:8080/",
          "height": 295
        },
        "outputId": "25b95a63-4c6f-4339-888b-b58d89ea2b21"
      },
      "source": [
        "# Your code here :\n",
        "df_weather['DATE'] = pd.to_datetime(df_weather['DATE'])\n",
        "my_scatter_plot = sns\n",
        "my_scatter_plot.scatterplot(data=df_weather,\n",
        "                            x='DATE',\n",
        "                            y='MAX_TEMPERATURE_C',\n",
        "                            color='blue')\n",
        "\n",
        "my_scatter_plot.scatterplot(data=df_weather,\n",
        "                            x='DATE',\n",
        "                            y='predict',\n",
        "                            color='red')\n",
        "\n",
        "catches = plt.title('my title')"
      ],
      "execution_count": null,
      "outputs": [
        {
          "output_type": "display_data",
          "data": {
            "text/plain": [
              "<Figure size 432x288 with 1 Axes>"
            ],
            "image/png": "[encoded data removed]"
          },
          "metadata": {
            "needs_background": "light"
          }
        }
      ]
    },
    {
      "cell_type": "markdown",
      "metadata": {
        "id": "uDopKt23LbYF"
      },
      "source": [
        "Hey, but it doesn't seem linear ! And yet it is..."
      ]
    },
    {
      "cell_type": "markdown",
      "metadata": {
        "id": "UcNA1qwJLlyU"
      },
      "source": [
        "# Predictions on a more correlated column\n",
        "Do the same steps to obtain a new colum \"predict2\". Your goal is to predict \"MAX temperature\" from the \"MIN temperature\" column."
      ]
    },
    {
      "cell_type": "code",
      "metadata": {
        "id": "NlrSXUswL4Lq",
        "colab": {
          "base_uri": "https://localhost:8080/"
        },
        "outputId": "715c330d-47d7-4157-e904-199bcabf6b6b"
      },
      "source": [
        "# Your code here :\n",
        "from sklearn.linear_model import LinearRegression\n",
        "my_model = LinearRegression()\n",
        "X = df_weather[['MIN_TEMPERATURE_C']]\n",
        "y = df_weather['MAX_TEMPERATURE_C']\n",
        "\n",
        "# train my model\n",
        "my_model.fit(X,y)\n",
        "# get the score from my model\n",
        "print(my_model.score(X,y))\n",
        "# get the coefficient\n",
        "print(my_model.coef_)\n",
        "print(my_model.intercept_)\n",
        "\n",
        "df_weather['predict2'] = my_model.predict(df_weather[['MIN_TEMPERATURE_C']])"
      ],
      "execution_count": null,
      "outputs": [
        {
          "output_type": "stream",
          "name": "stdout",
          "text": [
            "0.7689396999057355\n",
            "[1.22274205]\n",
            "5.689031214578716\n"
          ]
        }
      ]
    },
    {
      "cell_type": "code",
      "source": [],
      "metadata": {
        "id": "dnEk7XaI5cDJ"
      },
      "execution_count": null,
      "outputs": []
    },
    {
      "cell_type": "code",
      "source": [
        "df_weather"
      ],
      "metadata": {
        "colab": {
          "base_uri": "https://localhost:8080/",
          "height": 424
        },
        "id": "1bqwBJid5b-u",
        "outputId": "bcc16f25-6433-45d4-ca9d-901263f45c01"
      },
      "execution_count": null,
      "outputs": [
        {
          "output_type": "execute_result",
          "data": {
            "text/plain": [
              "          DATE  MAX_TEMPERATURE_C  MIN_TEMPERATURE_C  SUNHOUR    predict  \\\n",
              "0   2019-01-01                  9                  4      5.1  11.396823   \n",
              "1   2019-01-02                  8                  5      8.7  16.020019   \n",
              "2   2019-01-03                  6                  0      8.7  16.020019   \n",
              "3   2019-01-04                  5                 -1      5.1  11.396823   \n",
              "4   2019-01-05                  6                 -1      8.7  16.020019   \n",
              "..         ...                ...                ...      ...        ...   \n",
              "360 2019-12-27                 13                 10      8.7  16.020019   \n",
              "361 2019-12-28                 11                  5      6.9  13.708421   \n",
              "362 2019-12-29                  9                  2      8.7  16.020019   \n",
              "363 2019-12-30                 12                  4      8.7  16.020019   \n",
              "364 2019-12-31                 10                  4      8.7  16.020019   \n",
              "\n",
              "      predict2  \n",
              "0    10.579999  \n",
              "1    11.802741  \n",
              "2     5.689031  \n",
              "3     4.466289  \n",
              "4     4.466289  \n",
              "..         ...  \n",
              "360  17.916452  \n",
              "361  11.802741  \n",
              "362   8.134515  \n",
              "363  10.579999  \n",
              "364  10.579999  \n",
              "\n",
              "[365 rows x 6 columns]"
            ],
            "text/html": [
              "\n",
              "  <div id=\"df-0c9d1d14-40fa-4795-b03e-a2e76b860430\">\n",
              "    <div class=\"colab-df-container\">\n",
              "      <div>\n",
              "<style scoped>\n",
              "    .dataframe tbody tr th:only-of-type {\n",
              "        vertical-align: middle;\n",
              "    }\n",
              "\n",
              "    .dataframe tbody tr th {\n",
              "        vertical-align: top;\n",
              "    }\n",
              "\n",
              "    .dataframe thead th {\n",
              "        text-align: right;\n",
              "    }\n",
              "</style>\n",
              "<table border=\"1\" class=\"dataframe\">\n",
              "  <thead>\n",
              "    <tr style=\"text-align: right;\">\n",
              "      <th></th>\n",
              "      <th>DATE</th>\n",
              "      <th>MAX_TEMPERATURE_C</th>\n",
              "      <th>MIN_TEMPERATURE_C</th>\n",
              "      <th>SUNHOUR</th>\n",
              "      <th>predict</th>\n",
              "      <th>predict2</th>\n",
              "    </tr>\n",
              "  </thead>\n",
              "  <tbody>\n",
              "    <tr>\n",
              "      <th>0</th>\n",
              "      <td>2019-01-01</td>\n",
              "      <td>9</td>\n",
              "      <td>4</td>\n",
              "      <td>5.1</td>\n",
              "      <td>11.396823</td>\n",
              "      <td>10.579999</td>\n",
              "    </tr>\n",
              "    <tr>\n",
              "      <th>1</th>\n",
              "      <td>2019-01-02</td>\n",
              "      <td>8</td>\n",
              "      <td>5</td>\n",
              "      <td>8.7</td>\n",
              "      <td>16.020019</td>\n",
              "      <td>11.802741</td>\n",
              "    </tr>\n",
              "    <tr>\n",
              "      <th>2</th>\n",
              "      <td>2019-01-03</td>\n",
              "      <td>6</td>\n",
              "      <td>0</td>\n",
              "      <td>8.7</td>\n",
              "      <td>16.020019</td>\n",
              "      <td>5.689031</td>\n",
              "    </tr>\n",
              "    <tr>\n",
              "      <th>3</th>\n",
              "      <td>2019-01-04</td>\n",
              "      <td>5</td>\n",
              "      <td>-1</td>\n",
              "      <td>5.1</td>\n",
              "      <td>11.396823</td>\n",
              "      <td>4.466289</td>\n",
              "    </tr>\n",
              "    <tr>\n",
              "      <th>4</th>\n",
              "      <td>2019-01-05</td>\n",
              "      <td>6</td>\n",
              "      <td>-1</td>\n",
              "      <td>8.7</td>\n",
              "      <td>16.020019</td>\n",
              "      <td>4.466289</td>\n",
              "    </tr>\n",
              "    <tr>\n",
              "      <th>...</th>\n",
              "      <td>...</td>\n",
              "      <td>...</td>\n",
              "      <td>...</td>\n",
              "      <td>...</td>\n",
              "      <td>...</td>\n",
              "      <td>...</td>\n",
              "    </tr>\n",
              "    <tr>\n",
              "      <th>360</th>\n",
              "      <td>2019-12-27</td>\n",
              "      <td>13</td>\n",
              "      <td>10</td>\n",
              "      <td>8.7</td>\n",
              "      <td>16.020019</td>\n",
              "      <td>17.916452</td>\n",
              "    </tr>\n",
              "    <tr>\n",
              "      <th>361</th>\n",
              "      <td>2019-12-28</td>\n",
              "      <td>11</td>\n",
              "      <td>5</td>\n",
              "      <td>6.9</td>\n",
              "      <td>13.708421</td>\n",
              "      <td>11.802741</td>\n",
              "    </tr>\n",
              "    <tr>\n",
              "      <th>362</th>\n",
              "      <td>2019-12-29</td>\n",
              "      <td>9</td>\n",
              "      <td>2</td>\n",
              "      <td>8.7</td>\n",
              "      <td>16.020019</td>\n",
              "      <td>8.134515</td>\n",
              "    </tr>\n",
              "    <tr>\n",
              "      <th>363</th>\n",
              "      <td>2019-12-30</td>\n",
              "      <td>12</td>\n",
              "      <td>4</td>\n",
              "      <td>8.7</td>\n",
              "      <td>16.020019</td>\n",
              "      <td>10.579999</td>\n",
              "    </tr>\n",
              "    <tr>\n",
              "      <th>364</th>\n",
              "      <td>2019-12-31</td>\n",
              "      <td>10</td>\n",
              "      <td>4</td>\n",
              "      <td>8.7</td>\n",
              "      <td>16.020019</td>\n",
              "      <td>10.579999</td>\n",
              "    </tr>\n",
              "  </tbody>\n",
              "</table>\n",
              "<p>365 rows × 6 columns</p>\n",
              "</div>\n",
              "      <button class=\"colab-df-convert\" onclick=\"convertToInteractive('df-0c9d1d14-40fa-4795-b03e-a2e76b860430')\"\n",
              "              title=\"Convert this dataframe to an interactive table.\"\n",
              "              style=\"display:none;\">\n",
              "        \n",
              "  <svg xmlns=\"http://www.w3.org/2000/svg\" height=\"24px\"viewBox=\"0 0 24 24\"\n",
              "       width=\"24px\">\n",
              "    <path d=\"M0 0h24v24H0V0z\" fill=\"none\"/>\n",
              "    <path d=\"M18.56 5.44l.94 2.06.94-2.06 2.06-.94-2.06-.94-.94-2.06-.94 2.06-2.06.94zm-11 1L8.5 8.5l.94-2.06 2.06-.94-2.06-.94L8.5 2.5l-.94 2.06-2.06.94zm10 10l.94 2.06.94-2.06 2.06-.94-2.06-.94-.94-2.06-.94 2.06-2.06.94z\"/><path d=\"M17.41 7.96l-1.37-1.37c-.4-.4-.92-.59-1.43-.59-.52 0-1.04.2-1.43.59L10.3 9.45l-7.72 7.72c-.78.78-.78 2.05 0 2.83L4 21.41c.39.39.9.59 1.41.59.51 0 1.02-.2 1.41-.59l7.78-7.78 2.81-2.81c.8-.78.8-2.07 0-2.86zM5.41 20L4 18.59l7.72-7.72 1.47 1.35L5.41 20z\"/>\n",
              "  </svg>\n",
              "      </button>\n",
              "      \n",
              "  <style>\n",
              "    .colab-df-container {\n",
              "      display:flex;\n",
              "      flex-wrap:wrap;\n",
              "      gap: 12px;\n",
              "    }\n",
              "\n",
              "    .colab-df-convert {\n",
              "      background-color: #E8F0FE;\n",
              "      border: none;\n",
              "      border-radius: 50%;\n",
              "      cursor: pointer;\n",
              "      display: none;\n",
              "      fill: #1967D2;\n",
              "      height: 32px;\n",
              "      padding: 0 0 0 0;\n",
              "      width: 32px;\n",
              "    }\n",
              "\n",
              "    .colab-df-convert:hover {\n",
              "      background-color: #E2EBFA;\n",
              "      box-shadow: 0px 1px 2px rgba(60, 64, 67, 0.3), 0px 1px 3px 1px rgba(60, 64, 67, 0.15);\n",
              "      fill: #174EA6;\n",
              "    }\n",
              "\n",
              "    [theme=dark] .colab-df-convert {\n",
              "      background-color: #3B4455;\n",
              "      fill: #D2E3FC;\n",
              "    }\n",
              "\n",
              "    [theme=dark] .colab-df-convert:hover {\n",
              "      background-color: #434B5C;\n",
              "      box-shadow: 0px 1px 3px 1px rgba(0, 0, 0, 0.15);\n",
              "      filter: drop-shadow(0px 1px 2px rgba(0, 0, 0, 0.3));\n",
              "      fill: #FFFFFF;\n",
              "    }\n",
              "  </style>\n",
              "\n",
              "      <script>\n",
              "        const buttonEl =\n",
              "          document.querySelector('#df-0c9d1d14-40fa-4795-b03e-a2e76b860430 button.colab-df-convert');\n",
              "        buttonEl.style.display =\n",
              "          google.colab.kernel.accessAllowed ? 'block' : 'none';\n",
              "\n",
              "        async function convertToInteractive(key) {\n",
              "          const element = document.querySelector('#df-0c9d1d14-40fa-4795-b03e-a2e76b860430');\n",
              "          const dataTable =\n",
              "            await google.colab.kernel.invokeFunction('convertToInteractive',\n",
              "                                                     [key], {});\n",
              "          if (!dataTable) return;\n",
              "\n",
              "          const docLinkHtml = 'Like what you see? Visit the ' +\n",
              "            '<a target=\"_blank\" href=https://colab.research.google.com/notebooks/data_table.ipynb>data table notebook</a>'\n",
              "            + ' to learn more about interactive tables.';\n",
              "          element.innerHTML = '';\n",
              "          dataTable['output_type'] = 'display_data';\n",
              "          await google.colab.output.renderOutput(dataTable, element);\n",
              "          const docLink = document.createElement('div');\n",
              "          docLink.innerHTML = docLinkHtml;\n",
              "          element.appendChild(docLink);\n",
              "        }\n",
              "      </script>\n",
              "    </div>\n",
              "  </div>\n",
              "  "
            ]
          },
          "metadata": {},
          "execution_count": 64
        }
      ]
    },
    {
      "cell_type": "markdown",
      "metadata": {
        "id": "faAHUMseL3vY"
      },
      "source": [
        "## Scatterplot 1\n",
        "- X-axis : MIN temperature\n",
        "- Y-axis : MAX temperatures in blue dots and 'predict2' in red dots."
      ]
    },
    {
      "cell_type": "code",
      "metadata": {
        "id": "KfQkWH_YMK9D",
        "colab": {
          "base_uri": "https://localhost:8080/",
          "height": 296
        },
        "outputId": "97c36256-1d0a-480e-d79a-d193c41348ee"
      },
      "source": [
        "#Your code here :\n",
        "my_scatter_plot.scatterplot(data=df_weather,\n",
        "                            x='MIN_TEMPERATURE_C',\n",
        "                            y='MAX_TEMPERATURE_C'\n",
        "                            )\n",
        "\n",
        "my_scatter_plot.scatterplot(data=df_weather,\n",
        "                            x='MIN_TEMPERATURE_C',\n",
        "                            y='predict2',\n",
        "                            color='red')\n",
        "\n",
        "catches = plt.title('my title')"
      ],
      "execution_count": null,
      "outputs": [
        {
          "output_type": "display_data",
          "data": {
            "text/plain": [
              "<Figure size 432x288 with 1 Axes>"
            ],
            "image/png": "[encoded data removed]"
          },
          "metadata": {
            "needs_background": "light"
          }
        }
      ]
    },
    {
      "cell_type": "markdown",
      "metadata": {
        "id": "A8P6S3RTMMo-"
      },
      "source": [
        "## Scatterplot 2\n",
        "- X-axis : DATE\n",
        "- Y-axis : MAX temperatures in blue dots and 'predict2' in red dots."
      ]
    },
    {
      "cell_type": "code",
      "metadata": {
        "id": "U4HAg2nvMRZE",
        "colab": {
          "base_uri": "https://localhost:8080/",
          "height": 295
        },
        "outputId": "ca41ed0a-67e9-411f-b1ff-1586e87d5805"
      },
      "source": [
        "#Your code here :\n",
        "my_scatter_plot.scatterplot(data=df_weather,\n",
        "                            x='DATE',\n",
        "                            y='MAX_TEMPERATURE_C'\n",
        "                            )\n",
        "\n",
        "my_scatter_plot.scatterplot(data=df_weather,\n",
        "                            x='DATE',\n",
        "                            y='predict2',\n",
        "                            color='red')\n",
        "\n",
        "catches = plt.title('my title')"
      ],
      "execution_count": null,
      "outputs": [
        {
          "output_type": "display_data",
          "data": {
            "text/plain": [
              "<Figure size 432x288 with 1 Axes>"
            ],
            "image/png": "[encoded data removed]"
          },
          "metadata": {
            "needs_background": "light"
          }
        }
      ]
    }
  ]
}